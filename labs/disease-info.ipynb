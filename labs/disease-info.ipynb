{
 "cells": [
  {
   "cell_type": "code",
   "execution_count": 34,
   "metadata": {},
   "outputs": [
    {
     "name": "stdout",
     "output_type": "stream",
     "text": [
      "Hepatitis D, also known as the hepatitis delta virus, is an infection that causes the liver to become inflamed. This swelling can impair liver function and cause long-term liver problems, including liver scarring and cancer. The condition is caused by the hepatitis D virus (HDV).\n"
     ]
    }
   ],
   "source": [
    "dData = {}\n",
    "\n",
    "f = open(\"../data/disease-description.csv\", \"r\")\n",
    "fCounter = 0\n",
    "for x in f:\n",
    "    fCounter += 1\n",
    "    if fCounter <= 1:\n",
    "        continue\n",
    "\n",
    "    x = x.strip().split(',')\n",
    "    x[0] = x[0].lower().strip().replace(\" \", \"_\")\n",
    "    x[1] = \",\".join(x[1:]).replace(\"\\\"\", \"\")\n",
    "    dData[x[0]] = x[1]\n",
    "\n",
    "print(dData['hepatitis_d'])"
   ]
  },
  {
   "cell_type": "code",
   "execution_count": 35,
   "metadata": {},
   "outputs": [
    {
     "name": "stdout",
     "output_type": "stream",
     "text": [
      "['Consult nearest hospital', 'Vaccination', 'Eat healthy', 'Medication']\n"
     ]
    }
   ],
   "source": [
    "pData = {}\n",
    "\n",
    "g = open(\"../data/disease-precaution.csv\", \"r\")\n",
    "gCounter = 0\n",
    "for x in g:\n",
    "    gCounter += 1\n",
    "    if gCounter <= 1:\n",
    "        continue\n",
    "\n",
    "    x = x.strip().split(',')\n",
    "    x[0] = x[0].lower().strip().replace(\" \", \"_\")\n",
    "    precautions = []\n",
    "    for i in range(1, len(x)):\n",
    "        precaution = x[i].strip().capitalize()\n",
    "        if precaution != \"\":\n",
    "            precautions.append(precaution)\n",
    "\n",
    "    pData[x[0]] = precautions\n",
    "\n",
    "print(pData['hepatitis_b'])"
   ]
  }
 ],
 "metadata": {
  "interpreter": {
   "hash": "47c8a5211e25a046a2f22ad0f090b39d5d5273fdb91d8c21532760865b723bda"
  },
  "kernelspec": {
   "display_name": "Python 3.9.0 64-bit ('3.9.0')",
   "language": "python",
   "name": "python3"
  },
  "language_info": {
   "codemirror_mode": {
    "name": "ipython",
    "version": 3
   },
   "file_extension": ".py",
   "mimetype": "text/x-python",
   "name": "python",
   "nbconvert_exporter": "python",
   "pygments_lexer": "ipython3",
   "version": "3.9.0"
  },
  "orig_nbformat": 4
 },
 "nbformat": 4,
 "nbformat_minor": 2
}
