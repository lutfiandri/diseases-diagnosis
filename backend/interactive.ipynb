{
 "cells": [
  {
   "cell_type": "code",
   "execution_count": 46,
   "metadata": {},
   "outputs": [],
   "source": [
    "from clips import Environment\n",
    "import os"
   ]
  },
  {
   "cell_type": "code",
   "execution_count": 28,
   "metadata": {},
   "outputs": [],
   "source": [
    "dataPath = os.path.abspath(os.path.join(os.getcwd(), '..', 'data'))\n",
    "diseasePath = os.path.join(dataPath, 'disease-symptoms.clp')\n",
    "env = Environment()\n",
    "env.load(diseasePath)"
   ]
  },
  {
   "cell_type": "code",
   "execution_count": 54,
   "metadata": {},
   "outputs": [
    {
     "name": "stdout",
     "output_type": "stream",
     "text": [
      "Fungal infection\n"
     ]
    }
   ],
   "source": [
    "env.reset()\n",
    "env.eval(\"(assert (has_symptom itching))\")\n",
    "env.eval(\"(assert (has_symptom skin_rash))\")\n",
    "env.eval(\"(assert (has_symptom nodal_skin_eruptions))\")\n",
    "env.eval(\"(assert (has_symptom dischromic_patches))\")\n",
    "_ = env.run()\n"
   ]
  },
  {
   "cell_type": "code",
   "execution_count": 74,
   "metadata": {},
   "outputs": [],
   "source": [
    "diseases = []\n",
    "\n",
    "for fact in env.facts():\n",
    "  fact = str(fact)\n",
    "  if \"disease_is\" in fact:\n",
    "    disease = fact[1:-1].split(\" \")[1]\n",
    "    disease = disease.replace(\"_\", \" \")\n",
    "    disease = disease.title()\n",
    "    diseases.append(disease)\n",
    "\n",
    "print(diseases)\n",
    "  "
   ]
  }
 ],
 "metadata": {
  "interpreter": {
   "hash": "47c8a5211e25a046a2f22ad0f090b39d5d5273fdb91d8c21532760865b723bda"
  },
  "kernelspec": {
   "display_name": "Python 3.9.0 64-bit ('3.9.0')",
   "language": "python",
   "name": "python3"
  },
  "language_info": {
   "codemirror_mode": {
    "name": "ipython",
    "version": 3
   },
   "file_extension": ".py",
   "mimetype": "text/x-python",
   "name": "python",
   "nbconvert_exporter": "python",
   "pygments_lexer": "ipython3",
   "version": "3.9.0"
  },
  "orig_nbformat": 4
 },
 "nbformat": 4,
 "nbformat_minor": 2
}
